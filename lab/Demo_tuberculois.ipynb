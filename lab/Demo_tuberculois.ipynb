{
  "cells": [
    {
      "cell_type": "markdown",
      "metadata": {
        "id": "Eq6JowrRfeA6"
      },
      "source": [
        "# Using Resnet for chest X-ray Tuberculosis classification"
      ]
    },
    {
      "cell_type": "code",
      "execution_count": 1,
      "metadata": {
        "colab": {
          "base_uri": "https://localhost:8080/"
        },
        "id": "FjNPJCQs10Oe",
        "outputId": "82c83790-2eac-4a68-a37e-c98b058cac7f"
      },
      "outputs": [
        {
          "name": "stdout",
          "output_type": "stream",
          "text": [
            "Python executable: c:\\Users\\Asus\\anaconda3\\python.exe\n",
            "Python version: 3.12.7 | packaged by Anaconda, Inc. | (main, Oct  4 2024, 13:17:27) [MSC v.1929 64 bit (AMD64)]\n",
            "Installed opendatasets and kaggle. Restart kernel if needed.\n"
          ]
        }
      ],
      "source": [
        "import sys, subprocess\n",
        "print('Python executable:', sys.executable)\n",
        "print('Python version:', sys.version)\n",
        "# Install opendatasets and kaggle into the kernel's interpreter (safe from inside notebook)\n",
        "subprocess.check_call([sys.executable, '-m', 'pip', 'install', '--upgrade', 'pip'])\n",
        "subprocess.check_call([sys.executable, '-m', 'pip', 'install', 'opendatasets'])\n",
        "subprocess.check_call([sys.executable, '-m', 'pip', 'install', 'torch'])\n",
        "print('Installed opendatasets and kaggle. Restart kernel if needed.')"
      ]
    },
    {
      "cell_type": "code",
      "execution_count": 2,
      "metadata": {},
      "outputs": [
        {
          "data": {
            "text/plain": [
              "0"
            ]
          },
          "execution_count": 2,
          "metadata": {},
          "output_type": "execute_result"
        }
      ],
      "source": [
        "# (Optional) Upgrade pip from inside the kernel or use a terminal.\n",
        "# The previous cell already upgrades pip before installing packages.\n",
        "subprocess.check_call([sys.executable, '-m', 'pip', 'install', 'torchvision'])"
      ]
    },
    {
      "cell_type": "code",
      "execution_count": 3,
      "metadata": {},
      "outputs": [
        {
          "name": "stdout",
          "output_type": "stream",
          "text": [
            "Kernel executable: c:\\Users\\Asus\\anaconda3\\python.exe\n",
            "Kernel python version: 3.12.7 | packaged by Anaconda, Inc. | (main, Oct  4 2024, 13:17:27) [MSC v.1929 64 bit (AMD64)]\n",
            "cgi module found: True ModuleSpec(name='cgi', loader=<_frozen_importlib_external.SourceFileLoader object at 0x0000017B41764C80>, origin='c:\\\\Users\\\\Asus\\\\anaconda3\\\\Lib\\\\cgi.py')\n",
            "opendatasets import succeeded, version: 0.1.22\n"
          ]
        }
      ],
      "source": [
        "# Diagnostic: show which Python the kernel is using and whether the stdlib 'cgi' module exists\n",
        "import sys, importlib\n",
        "print('Kernel executable:', sys.executable)\n",
        "print('Kernel python version:', sys.version)\n",
        "spec = importlib.util.find_spec('cgi')\n",
        "print('cgi module found:', bool(spec), spec)\n",
        "# Try importing opendatasets to verify installation (may still fail if running under Python 3.13)\n",
        "try:\n",
        "    import opendatasets as od\n",
        "    print('opendatasets import succeeded, version:', getattr(od, '__version__', 'unknown'))\n",
        "except Exception as e:\n",
        "    print('opendatasets import failed:', type(e).__name__, e)"
      ]
    },
    {
      "cell_type": "markdown",
      "metadata": {},
      "source": [
        "### Tải dữ liệu và khởi tạo các thư viện xử lý\n",
        "\n",
        "- Sử dụng **`opendatasets`** để tải tập dữ liệu từ Kaggle.  \n",
        "- Import các thư viện phục vụ cho:\n",
        "  - Xử lý ảnh (`PIL`, `torchvision.transforms`)\n",
        "  - Chia dữ liệu (`random_split`)\n",
        "  - Tạo mô hình và huấn luyện (`torch`, `torchvision.models`)\n",
        "  - Đánh giá hiệu suất (`sklearn.metrics`)\n",
        "  - Tiến trình huấn luyện (`tqdm`)\n",
        "\n",
        "- Tải dataset TB Chest X-ray từ Kaggle bằng `opendatasets`\n",
        "- Import các thư viện cần cho tiền xử lý, chia dữ liệu, mô hình và đánh giá"
      ]
    },
    {
      "cell_type": "code",
      "execution_count": 4,
      "metadata": {
        "colab": {
          "base_uri": "https://localhost:8080/"
        },
        "id": "zf_sNoXv1CH0",
        "outputId": "c559c0c7-b5b7-45d4-dbf4-997a68a78312"
      },
      "outputs": [
        {
          "name": "stdout",
          "output_type": "stream",
          "text": [
            "Skipping, found downloaded files in \".\\tuberculosis-tb-chest-xray-dataset\" (use force=True to force download)\n"
          ]
        }
      ],
      "source": [
        "import os\n",
        "import opendatasets as od\n",
        "import os\n",
        "import random\n",
        "import argparse\n",
        "from pathlib import Path\n",
        "from sklearn.model_selection import train_test_split\n",
        "import numpy as np\n",
        "from PIL import Image\n",
        "from sklearn.metrics import accuracy_score, roc_auc_score, confusion_matrix, classification_report\n",
        "import torch\n",
        "from torch import nn\n",
        "from torchvision import transforms, datasets, models\n",
        "from torch.utils.data import DataLoader, random_split\n",
        "from tqdm import tqdm\n",
        "\n",
        "# Download the dataset\n",
        "dataset_url = 'https://www.kaggle.com/datasets/tawsifurrahman/tuberculosis-tb-chest-xray-dataset'\n",
        "od.download(dataset_url)"
      ]
    },
    {
      "cell_type": "code",
      "execution_count": 5,
      "metadata": {
        "id": "K3yX_PIkCJSb"
      },
      "outputs": [],
      "source": [
        "# Define the data directory\n",
        "data_dir = r'E:\\deep-learning\\practice\\lab\\tuberculosis-tb-chest-xray-dataset'\n",
        "# Define model checkpoints directory\n",
        "save_dir = \"checkpoints\""
      ]
    },
    {
      "cell_type": "markdown",
      "metadata": {},
      "source": [
        "## Cấu hình môi trường huấn luyện\n",
        "\n",
        "- `set_seed()`: giúp đảm bảo **kết quả tái lập (reproducibility)** bằng cách cố định seed ngẫu nhiên.  \n",
        "- `device`: xác định môi trường tính toán:\n",
        "  - `cuda` nếu có GPU (tăng tốc độ huấn luyện rất nhiều)\n",
        "  - `cpu` nếu không có GPU"
      ]
    },
    {
      "cell_type": "code",
      "execution_count": 6,
      "metadata": {},
      "outputs": [],
      "source": [
        "# ---------------------------\n",
        "# Reproducibility & device\n",
        "# ---------------------------\n",
        "def set_seed(seed=42):\n",
        "    random.seed(seed)\n",
        "    np.random.seed(seed)\n",
        "    torch.manual_seed(seed)\n",
        "    if torch.cuda.is_available():\n",
        "        torch.cuda.manual_seed_all(seed)\n",
        "\n",
        "device = torch.device(\"cuda\" if torch.cuda.is_available() else \"cpu\")"
      ]
    },
    {
      "cell_type": "markdown",
      "metadata": {},
      "source": [
        "## Hàm đánh giá mô hình\n",
        "\n",
        "Hàm `evaluate_model()` thực hiện:\n",
        "- Đưa mô hình sang chế độ **đánh giá (`eval`)** – tắt dropout và batchnorm.  \n",
        "- Duyệt qua toàn bộ batch trong `DataLoader`, tính toán:\n",
        "  - **Logits** → xác suất bằng `sigmoid`  \n",
        "  - **Dự đoán nhị phân** theo ngưỡng 0.5  \n",
        "- Tính các chỉ số:\n",
        "  - **Accuracy**: tỷ lệ dự đoán đúng  \n",
        "  - **ROC-AUC**: khả năng phân biệt giữa hai lớp  \n",
        "  - **Classification Report**: chi tiết Precision, Recall, F1-score cho từng lớp\n"
      ]
    },
    {
      "cell_type": "code",
      "execution_count": 7,
      "metadata": {
        "id": "mud_PJfqBFq8"
      },
      "outputs": [],
      "source": [
        "# ---------------------------\n",
        "# Utility: metrics\n",
        "# ---------------------------\n",
        "def evaluate_model(model, loader):\n",
        "    model.eval()\n",
        "    y_true, y_probs, y_pred = [], [], []\n",
        "    with torch.no_grad():\n",
        "        for xb, yb in loader:\n",
        "            xb = xb.to(device)\n",
        "            logits = model(xb).squeeze(-1).cpu()  # [batch]\n",
        "            probs = torch.sigmoid(logits).numpy()\n",
        "            preds = (probs >= 0.5).astype(int)\n",
        "            y_probs.extend(probs.tolist())\n",
        "            y_pred.extend(preds.tolist())\n",
        "            y_true.extend(yb.numpy().tolist())\n",
        "    acc = accuracy_score(y_true, y_pred)\n",
        "    try:\n",
        "        auc = roc_auc_score(y_true, y_probs)\n",
        "    except Exception:\n",
        "        auc = float(\"nan\")\n",
        "    cls_report = classification_report(y_true, y_pred, digits=4)\n",
        "    return acc, auc, cls_report"
      ]
    },
    {
      "cell_type": "markdown",
      "metadata": {},
      "source": [
        "## Chuẩn bị dữ liệu huấn luyện và kiểm định\n",
        "\n",
        "### Bước 1: Thiết lập seed để đảm bảo tái lập.  \n",
        "### Bước 2: Định nghĩa các phép biến đổi (`transforms`)\n",
        "- `RandomResizedCrop`: cắt ngẫu nhiên ảnh về kích thước 224x224 (chuẩn đầu vào của ResNet50)  \n",
        "- `RandomHorizontalFlip`: tăng cường dữ liệu (data augmentation)  \n",
        "- `Normalize`: chuẩn hóa ảnh theo thống kê của ImageNet  \n",
        "\n",
        "### Bước 3: Chia dữ liệu\n",
        "- Dùng `ImageFolder` để tự động gán nhãn dựa trên tên thư mục.  \n",
        "- Chia 80% train và 20% validation.\n"
      ]
    },
    {
      "cell_type": "code",
      "execution_count": 8,
      "metadata": {
        "id": "V8mEz0VkBKL0"
      },
      "outputs": [],
      "source": [
        "set_seed(42)\n",
        "\n",
        "# transforms\n",
        "tf = transforms.Compose([\n",
        "      transforms.RandomResizedCrop((224,224)),\n",
        "      transforms.RandomHorizontalFlip(),\n",
        "      transforms.ToTensor(),\n",
        "      transforms.Normalize(mean=[0.485,0.456,0.406], std=[0.229,0.224,0.225])\n",
        "  ])\n",
        "\n",
        "full_ds = datasets.ImageFolder(os.path.join(data_dir), transform=tf)\n",
        "# Store class_to_idx before splitting\n",
        "class_to_idx = full_ds.class_to_idx\n",
        "\n",
        "train_len = int(len(full_ds)*0.8)\n",
        "val_len = len(full_ds) - train_len\n",
        "train_ds, val_ds = random_split(full_ds, [train_len, val_len], generator=torch.Generator().manual_seed(42))\n",
        "\n",
        "train_loader = DataLoader(train_ds, batch_size=16, shuffle=True, num_workers=1)\n",
        "val_loader = DataLoader(val_ds, batch_size=16, shuffle=False, num_workers=1)"
      ]
    },
    {
      "cell_type": "markdown",
      "metadata": {},
      "source": [
        "## Xây dựng mô hình \n",
        "\n",
        "### Kiến trúc:\n",
        "- **ResNet50** là mô hình CNN sâu gồm 50 lớp, sử dụng **residual connections** giúp tránh hiện tượng biến mất gradient khi huấn luyện mạng sâu.\n",
        "- Ta **khởi tạo từ đầu (`weights=None`)** thay vì dùng pretrained ImageNet để huấn luyện trực tiếp trên ảnh X-quang.\n",
        "\n",
        "### Điều chỉnh đầu ra:\n",
        "- ResNet50 gốc có 1000 đầu ra (cho 1000 lớp ImageNet).  \n",
        "- Ta thay thế lớp `fc` cuối bằng `nn.Linear(num_ftrs, 1)` để **phân loại nhị phân** (bệnh / không bệnh).  \n",
        "- Sử dụng **`BCEWithLogitsLoss`** (Binary Cross Entropy with Logits) cho bài toán này.\n",
        "\n",
        "### Tối ưu hóa:\n",
        "- `Adam` optimizer với learning rate 1e-4.  \n",
        "- `ReduceLROnPlateau` giảm LR nếu mô hình không cải thiện trong vài epoch.\n"
      ]
    },
    {
      "cell_type": "code",
      "execution_count": 9,
      "metadata": {
        "colab": {
          "base_uri": "https://localhost:8080/"
        },
        "id": "0w5ohgv3fUQY",
        "outputId": "ba5e98ac-fa8a-437f-b1e6-a94d90261e1a"
      },
      "outputs": [],
      "source": [
        "# model:resnet50 -> single logit output\n",
        "# using pretrained with weights='DEFAULT'\n",
        "# training from scratch with weights=None\n",
        "model = models.resnet50(weights=None)\n",
        "\n",
        "for param in model.parameters():\n",
        "      param.requires_grad = True  # fine-tune all (or set False to freeze)\n",
        "num_ftrs = model.fc.in_features\n",
        "model.fc = nn.Linear(num_ftrs, 1)  # single logit\n",
        "model = model.to(device)\n",
        "\n",
        "criterion = nn.BCEWithLogitsLoss()\n",
        "optimizer = torch.optim.Adam(model.parameters(), lr=1e-4)\n",
        "scheduler = torch.optim.lr_scheduler.ReduceLROnPlateau(optimizer, factor=0.5, patience=2)\n",
        "\n",
        "best_auc = 0.0\n",
        "os.makedirs(save_dir, exist_ok=True)\n"
      ]
    },
    {
      "cell_type": "markdown",
      "metadata": {},
      "source": [
        "## Huấn luyện mô hình\n",
        "\n",
        "### Cấu trúc huấn luyện:\n",
        "1. Bật chế độ `train()` → cho phép tính gradient.  \n",
        "2. Duyệt qua từng batch:\n",
        "   - Dữ liệu đưa lên GPU (nếu có).  \n",
        "   - Tính **logits**, **loss** và thực hiện **lan truyền ngược (backpropagation)**.  \n",
        "3. Sau mỗi epoch:\n",
        "   - Tính loss trung bình.  \n",
        "   - Gọi `evaluate_model()` để đánh giá trên tập validation.  \n",
        "   - Cập nhật `scheduler`.  \n",
        "   - Lưu checkpoint nếu **AUC tốt nhất** được cải thiện.\n",
        "\n",
        "### Lưu ý:\n",
        "- Việc lưu checkpoint cho phép dừng huấn luyện giữa chừng mà không mất tiến trình.\n"
      ]
    },
    {
      "cell_type": "code",
      "execution_count": 10,
      "metadata": {},
      "outputs": [
        {
          "name": "stderr",
          "output_type": "stream",
          "text": [
            "100%|██████████| 210/210 [17:44<00:00,  5.07s/it]\n"
          ]
        },
        {
          "name": "stdout",
          "output_type": "stream",
          "text": [
            "[Epoch 0] train_loss=0.0178 val_acc=1.0000 val_auc=nan \n",
            "               precision    recall  f1-score   support\n",
            "\n",
            "           0     1.0000    1.0000    1.0000       840\n",
            "\n",
            "    accuracy                         1.0000       840\n",
            "   macro avg     1.0000    1.0000    1.0000       840\n",
            "weighted avg     1.0000    1.0000    1.0000       840\n",
            "\n"
          ]
        },
        {
          "name": "stderr",
          "output_type": "stream",
          "text": [
            "100%|██████████| 210/210 [17:10<00:00,  4.91s/it]\n"
          ]
        },
        {
          "name": "stdout",
          "output_type": "stream",
          "text": [
            "[Epoch 1] train_loss=0.0003 val_acc=1.0000 val_auc=nan \n",
            "               precision    recall  f1-score   support\n",
            "\n",
            "           0     1.0000    1.0000    1.0000       840\n",
            "\n",
            "    accuracy                         1.0000       840\n",
            "   macro avg     1.0000    1.0000    1.0000       840\n",
            "weighted avg     1.0000    1.0000    1.0000       840\n",
            "\n"
          ]
        }
      ],
      "source": [
        "for epoch in range(2):\n",
        "    model.train()\n",
        "    running_loss = 0.0\n",
        "    for xb, yb in tqdm(train_loader):\n",
        "        xb, yb = xb.to(device), yb.float().to(device)\n",
        "        logits = model(xb).squeeze(-1)  # [batch]\n",
        "        loss = criterion(logits, yb)\n",
        "        optimizer.zero_grad()\n",
        "        loss.backward()\n",
        "        optimizer.step()\n",
        "        running_loss += loss.item() * xb.size(0)\n",
        "\n",
        "    train_loss = running_loss / len(train_loader.dataset)\n",
        "    val_acc, val_auc, val_report = evaluate_model(model, val_loader)\n",
        "    scheduler.step(val_loss := train_loss)  # or use val_auc etc\n",
        "    print(f\"[Epoch {epoch}] train_loss={train_loss:.4f} val_acc={val_acc:.4f} val_auc={val_auc:.4f} \\n {val_report}\")\n",
        "\n",
        "    if val_auc > best_auc:\n",
        "        best_auc = val_auc\n",
        "        ckpt = os.path.join(save_dir, \"tb_resnet50_best.pt\")\n",
        "        torch.save({\"model_state\": model.state_dict(), \"class_to_idx\": class_to_idx}, ckpt)\n",
        "        print(f\"  Saved best checkpoint to {ckpt}\")\n"
      ]
    },
    {
      "cell_type": "markdown",
      "metadata": {},
      "source": [
        "## Đánh giá mô hình sau huấn luyện\n",
        "\n",
        "- Sau khi huấn luyện xong, ta đánh giá mô hình trên tập validation.  \n",
        "- Các chỉ số gồm:\n",
        "  - **Accuracy**: tỉ lệ dự đoán đúng tổng thể  \n",
        "  - **AUC**: khả năng phân biệt giữa hai lớp (càng gần 1 càng tốt)  \n",
        "  - **Classification Report**: hiển thị Precision, Recall, F1-score  \n",
        "\n",
        "Kết quả giúp ta đánh giá xem mô hình đã nhận biết được đặc trưng của bệnh lao phổi hay chưa.\n"
      ]
    },
    {
      "cell_type": "code",
      "execution_count": 11,
      "metadata": {},
      "outputs": [
        {
          "name": "stdout",
          "output_type": "stream",
          "text": [
            "Final val acc=1.0000, auc=nan \n",
            "               precision    recall  f1-score   support\n",
            "\n",
            "           0     1.0000    1.0000    1.0000       840\n",
            "\n",
            "    accuracy                         1.0000       840\n",
            "   macro avg     1.0000    1.0000    1.0000       840\n",
            "weighted avg     1.0000    1.0000    1.0000       840\n",
            "\n"
          ]
        }
      ],
      "source": [
        "  # final eval\n",
        "test_acc, test_auc, test_report = evaluate_model(model, val_loader)\n",
        "print(f\"Final val acc={test_acc:.4f}, auc={test_auc:.4f} \\n {test_report}\")"
      ]
    }
  ],
  "metadata": {
    "accelerator": "GPU",
    "colab": {
      "gpuType": "T4",
      "provenance": []
    },
    "kernelspec": {
      "display_name": "base",
      "language": "python",
      "name": "python3"
    },
    "language_info": {
      "codemirror_mode": {
        "name": "ipython",
        "version": 3
      },
      "file_extension": ".py",
      "mimetype": "text/x-python",
      "name": "python",
      "nbconvert_exporter": "python",
      "pygments_lexer": "ipython3",
      "version": "3.12.7"
    }
  },
  "nbformat": 4,
  "nbformat_minor": 0
}
