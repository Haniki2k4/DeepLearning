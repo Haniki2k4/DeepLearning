{
 "cells": [
  {
   "cell_type": "markdown",
   "id": "52453576",
   "metadata": {},
   "source": [
    "# Linear Regression với Gradient Descent\n",
    "\n",
    "Trong notebook này, chúng ta sẽ giải quyết bài toán **dự đoán giá nhà từ diện tích (m²)** bằng hồi quy tuyến tính.  \n",
    "Khác với ví dụ trước dùng **Normal Equation**, ở đây ta sẽ huấn luyện mô hình bằng **Gradient Descent**.\n"
   ]
  },
  {
   "cell_type": "markdown",
   "id": "2e41ccd8",
   "metadata": {},
   "source": [
    "## 1. Bài toán đặt ra\n",
    "\n",
    "- Input: diện tích nhà (m²).  \n",
    "- Output: giá nhà (đơn vị giả định).  \n",
    "\n",
    "Giả định mối quan hệ tuyến tính giữa diện tích và giá nhà. Ta cần tìm tham số mô hình \\( w = [w_0, w_1] \\) sao cho:  \n",
    "\n",
    "\\[\n",
    "y ≈ w₀ + w₁ ⋅ x\n",
    "\\]\n"
   ]
  },
  {
   "cell_type": "code",
   "execution_count": 1,
   "id": "9412c196",
   "metadata": {},
   "outputs": [],
   "source": [
    "import numpy as np\n",
    "import pandas as pd\n",
    "import matplotlib.pyplot as plt"
   ]
  },
  {
   "cell_type": "markdown",
   "id": "bad1f6da",
   "metadata": {},
   "source": [
    "## 2. Dữ liệu và trực quan hóa\n",
    "\n",
    "Dữ liệu gồm hai cột:  \n",
    "- Cột 1: diện tích (m²).  \n",
    "- Cột 2: giá nhà.  \n",
    "\n",
    "Chúng ta sẽ vẽ biểu đồ phân tán để quan sát mối quan hệ giữa diện tích và giá.\n"
   ]
  },
  {
   "cell_type": "markdown",
   "id": "981fbc38",
   "metadata": {},
   "source": [
    "## 3. Xây dựng mô hình bằng Gradient Descent\n",
    "\n",
    "### 3.1. Ý tưởng\n",
    "- Hàm dự đoán: \\( y = w_0 + w_1 x \\)\n",
    "- Hàm mất mát (MSE):  \n",
    "\n",
    "\\[\n",
    "J(w) = 1/2m*sum_{i=1}^m (y^(i) - ^y^(i))^2\n",
    "\\]\n",
    "\n",
    "- Gradient Descent cập nhật tham số:  \n",
    "\n",
    "\\[\n",
    "w_j := w_j - \\alpha*{\\partial J(w)}{\\partial w_j}\n",
    "\\]\n",
    "\n",
    "với \\( \\alpha \\) là **learning rate**.\n",
    "\n",
    "### 3.2. Ý nghĩa từng bước trong code\n",
    "1. **Thêm cột 1 vào ma trận X**: để tính hệ số chệch (bias).  \n",
    "2. **Khởi tạo trọng số \\(w = [0,1]\\)**: giá trị ban đầu.  \n",
    "3. **Tính sai số \\(r = Xw - y\\)**: chênh lệch dự đoán và giá trị thật.  \n",
    "4. **Tính cost = 0.5 * sum(r²)**: đánh giá chất lượng mô hình ở mỗi vòng lặp.  \n",
    "5. **Cập nhật w0 và w1** theo công thức Gradient Descent.  \n",
    "6. Lặp lại nhiều lần để dần tiệm cận nghiệm tối ưu.\n"
   ]
  },
  {
   "cell_type": "code",
   "execution_count": 9,
   "id": "9b16e8bd",
   "metadata": {},
   "outputs": [
    {
     "name": "stdout",
     "output_type": "stream",
     "text": [
      "[13929872.64455245]\n",
      "[10306582.37422079]\n",
      "[7625999.18237673]\n",
      "[5642849.69326854]\n",
      "[4175675.71851866]\n",
      "[3090230.83195734]\n",
      "[2287196.82094014]\n",
      "[1693096.06938209]\n",
      "[1253568.35550934]\n",
      "[928396.89128833]\n",
      "[687828.48611463]\n",
      "[509851.12972016]\n",
      "[378179.89312088]\n",
      "[280766.8575313]\n",
      "[208698.72973386]\n",
      "[155381.27570385]\n",
      "[115935.94816237]\n",
      "[86753.4994753]\n",
      "[65163.7354763]\n",
      "[49191.19268689]\n",
      "[37374.38339803]\n",
      "[28632.06953731]\n",
      "[22164.32937972]\n",
      "[17379.36470576]\n",
      "[13839.35126131]\n",
      "[11220.37783611]\n",
      "[9282.80838638]\n",
      "[7849.35533562]\n",
      "[6788.85776037]\n",
      "[6004.28016513]\n",
      "[5423.83373397]\n",
      "[4994.40765352]\n",
      "[4676.70947326]\n",
      "[4441.66984614]\n",
      "[4267.78268312]\n",
      "[4139.13734594]\n",
      "[4043.96282366]\n",
      "[3973.55068504]\n",
      "[3921.4582571]\n",
      "[3882.91912046]\n",
      "[3854.40698198]\n",
      "[3833.3130189]\n",
      "[3817.70717153]\n",
      "[3806.16154282]\n",
      "[3797.61974572]\n",
      "[3791.30024382]\n",
      "[3786.62484071]\n",
      "[3783.16577503]\n",
      "[3780.60658031]\n",
      "[3778.71312826]\n",
      "[3777.31220606]\n",
      "[3776.27566738]\n",
      "[3775.50870698]\n",
      "[3774.94118601]\n",
      "[3774.52121437]\n",
      "[3774.21040269]\n",
      "[3773.98034975]\n",
      "[3773.81004376]\n",
      "[3773.68393976]\n",
      "[3773.59053729]\n",
      "[3773.52132808]\n",
      "[3773.47001751]\n",
      "[3773.43194874]\n",
      "[3773.4036765]\n",
      "[3773.38265195]\n",
      "[3773.36698937]\n",
      "[3773.3552937]\n",
      "[3773.34653282]\n",
      "[3773.33994316]\n",
      "[3773.33495981]\n",
      "[3773.33116485]\n",
      "[3773.32824908]\n",
      "[3773.32598375]\n",
      "[3773.32419963]\n",
      "[3773.32277153]\n",
      "[3773.32160681]\n",
      "[3773.32063694]\n",
      "[3773.31981124]\n",
      "[3773.31909219]\n",
      "[3773.31845205]\n",
      "[3773.31787028]\n",
      "[3773.3173317]\n",
      "[3773.31682507]\n",
      "[3773.31634209]\n",
      "[3773.31587659]\n",
      "[3773.31542403]\n",
      "[3773.31498104]\n",
      "[3773.31454514]\n",
      "[3773.31411448]\n",
      "[3773.3136877]\n",
      "[3773.31326379]\n",
      "[3773.312842]\n",
      "[3773.31242178]\n",
      "[3773.31200273]\n",
      "[3773.31158454]\n",
      "[3773.31116698]\n",
      "[3773.3107499]\n",
      "[3773.31033317]\n",
      "[3773.3099167]\n"
     ]
    },
    {
     "data": {
      "image/png": "[encoded data removed]",
      "text/plain": [
       "<Figure size 640x480 with 1 Axes>"
      ]
     },
     "metadata": {},
     "output_type": "display_data"
    }
   ],
   "source": [
    "data = pd.read_csv('data_linear.csv').values\n",
    "N = data.shape[0]\n",
    "x = data[:, 0].reshape(-1, 1)\n",
    "y = data[:, 1].reshape(-1, 1)\n",
    "plt.scatter(x, y)\n",
    "plt.xlabel('mét vuông')\n",
    "plt.ylabel('giá')\n",
    "\n",
    "x = np.hstack((np.ones((N, 1)), x))\n",
    "\n",
    "w = np.array([0.,1.]).reshape(-1,1)\n",
    "\n",
    "numOfIteration = 100\n",
    "cost = np.zeros((numOfIteration,1))\n",
    "learning_rate = 0.000001\n",
    "for i in range(1, numOfIteration):\n",
    "    r = np.dot(x, w) - y\n",
    "    cost[i] = 0.5*np.sum(r*r)\n",
    "    w[0] -= learning_rate*np.sum(r)\n",
    "    # correct the shape dimension\n",
    "    w[1] -= learning_rate*np.sum(np.multiply(r, x[:,1].reshape(-1,1)))\n",
    "    print(cost[i])\n",
    "predict = np.dot(x, w)\n",
    "plt.plot((x[0][1], x[N-1][1]),(predict[0], predict[N-1]), 'r')\n",
    "plt.show()\n"
   ]
  },
  {
   "cell_type": "markdown",
   "id": "0d7098c8",
   "metadata": {},
   "source": [
    "## 4. Dự đoán thử\n",
    "\n",
    "Sau khi huấn luyện xong, ta sẽ:\n",
    "- Thử dự đoán giá nhà với diện tích 50 m²."
   ]
  },
  {
   "cell_type": "code",
   "execution_count": 10,
   "id": "99c88571",
   "metadata": {},
   "outputs": [
    {
     "name": "stdout",
     "output_type": "stream",
     "text": [
      "Giá nhà cho 50m^2 là :  [755.68795083]\n"
     ]
    }
   ],
   "source": [
    "x1 = 50\n",
    "y1 = w[0] + w[1] * 50\n",
    "print('Giá nhà cho 50m^2 là : ', y1)"
   ]
  },
  {
   "cell_type": "markdown",
   "id": "ba0dd866",
   "metadata": {},
   "source": [
    "## 5. Thảo luận\n",
    "\n",
    "### Ưu điểm của Gradient Descent:\n",
    "- Áp dụng được cho dữ liệu lớn mà không cần tính nghịch đảo ma trận.  \n",
    "- Linh hoạt, có thể mở rộng cho nhiều biến.  \n",
    "\n",
    "### Nhược điểm:\n",
    "- Cần lựa chọn learning rate phù hợp.  \n",
    "- Kết quả chỉ là xấp xỉ, phụ thuộc số vòng lặp.  \n",
    "- Tốn thời gian hơn nếu dữ liệu nhỏ (so với Normal Equation).  \n",
    "\n",
    "👉 Như vậy, **Normal Equation** phù hợp với dữ liệu nhỏ, còn **Gradient Descent** phù hợp cho dữ liệu lớn và phức tạp.\n"
   ]
  }
 ],
 "metadata": {
  "kernelspec": {
   "display_name": "Python 3",
   "language": "python",
   "name": "python3"
  },
  "language_info": {
   "codemirror_mode": {
    "name": "ipython",
    "version": 3
   },
   "file_extension": ".py",
   "mimetype": "text/x-python",
   "name": "python",
   "nbconvert_exporter": "python",
   "pygments_lexer": "ipython3",
   "version": "3.13.1"
  }
 },
 "nbformat": 4,
 "nbformat_minor": 5
}
